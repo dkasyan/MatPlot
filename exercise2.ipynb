{
 "metadata": {
  "language_info": {
   "codemirror_mode": {
    "name": "ipython",
    "version": 3
   },
   "file_extension": ".py",
   "mimetype": "text/x-python",
   "name": "python",
   "nbconvert_exporter": "python",
   "pygments_lexer": "ipython3",
   "version": 3
  },
  "orig_nbformat": 2
 },
 "nbformat": 4,
 "nbformat_minor": 2,
 "cells": [
  {
   "cell_type": "code",
   "execution_count": null,
   "metadata": {},
   "outputs": [],
   "source": [
    "import matplotlib.pyplot as plt\n",
    "import pandas as pd\n",
    "\n",
    "if __name__ == '__main__':\n",
    "    prices = [\n",
    "        (1, 2.12),\n",
    "        (2, 2.56),\n",
    "        (3, 3.10),\n",
    "        (4, 3.16),\n",
    "        (5, 3.58),\n",
    "        (6, 5.12),\n",
    "        (7, 5.16),\n",
    "        (8, 5.20),\n",
    "        (9, 4.12),\n",
    "        (10, 4.10),\n",
    "        (11, 3.65),\n",
    "        (12, 4.25),\n",
    "    ]\n",
    "    left = list(map(lambda tup: tup[0], prices))\n",
    "    right = list(map(lambda tup: tup[1], prices))\n",
    "\n",
    "    df = pd.DataFrame(prices, columns=[\"n1\", \"n2\"])\n",
    "    df = df.set_index(\"n1\")\n",
    "\n",
    "    usd = df['n2'].apply(lambda n2: n2 / 4)\n",
    "    df['usd'] = usd\n",
    "\n",
    "    x = df.index\n",
    "    y = df[\"usd\"]\n",
    "\n",
    "    plt.rc('lines', linewidth=4)\n",
    "\n",
    "    fig, ax = plt.subplots()\n",
    "\n",
    "    ax.set_prop_cycle(color=['r'], linestyle=['--'])\n",
    "\n",
    "    ax.plot(x, y)\n",
    "\n",
    "    ax.set_title('Price of goods (USD)')\n",
    "    ax.set_ylabel('month')\n",
    "\n",
    "    plt.grid(True)\n",
    "    axes = plt.gca()\n",
    "    axes.set_ylim([0, 2])\n",
    "\n",
    "    plt.show()"
   ]
  }
 ]
}